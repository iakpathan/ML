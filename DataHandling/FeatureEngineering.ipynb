{
 "cells": [
  {
   "cell_type": "code",
   "execution_count": 1,
   "id": "58fa041e-7916-4e1c-a27c-05cbe30028f1",
   "metadata": {},
   "outputs": [
    {
     "name": "stdout",
     "output_type": "stream",
     "text": [
      "Original Data Head:\n",
      "   Age  Income_k    Education Region\n",
      "0   38        45          PhD  North\n",
      "1   42        50     Master's   East\n",
      "2   39        55   Bachelor's   West\n",
      "3   41        60  High School  South\n",
      "4   40        48     Master's  North\n",
      "\n",
      "--- Initial Data Properties ---\n",
      "Age Skew: 0.00 (Close to 0 is Gaussian)\n",
      "Income_k Skew: 3.20 (High positive skew)\n",
      "--------------------------------------------------\n"
     ]
    }
   ],
   "source": [
    "import pandas as pd\n",
    "from sklearn.preprocessing import LabelEncoder, OneHotEncoder, MinMaxScaler, StandardScaler\n",
    "from scipy.stats import skew\n",
    "\n",
    "# --- 1. Define Deterministic Data to Match Requirements ---\n",
    "\n",
    "data = {\n",
    "    # Age: Mimics Gaussian (Symmetric, Centered)\n",
    "    'Age': [38, 42, 39, 41, 40, 37, 43, 36, 44, 40, 38, 42, 39, 41, 40],\n",
    "\n",
    "    #  Income_k: Highly Positively Skewed (Long tail on the right)\n",
    "    # Most values are low (40-60k), a few are very high (150-500k)\n",
    "    'Income_k': [45, 50, 55, 60, 48, 52, 150, 65, 50, 42, 58, 47, 500, 70, 40],\n",
    "\n",
    "    #  Education: Ordinal (Has a natural order)\n",
    "    'Education': ['PhD', 'Master\\'s', 'Bachelor\\'s', 'High School', 'Master\\'s',\n",
    "                  'PhD', 'High School', 'Bachelor\\'s', 'PhD', 'Master\\'s',\n",
    "                  'Bachelor\\'s', 'PhD', 'High School', 'Master\\'s', 'Bachelor\\'s'],\n",
    "\n",
    "    # Region: Nominal (No natural order)\n",
    "    'Region': ['North', 'East', 'West', 'South', 'North',\n",
    "               'East', 'West', 'South', 'North', 'East',\n",
    "               'West', 'South', 'North', 'East', 'West']\n",
    "}\n",
    "df = pd.DataFrame(data)\n",
    "\n",
    "print(\"Original Data Head:\")\n",
    "print(df.head())\n",
    "print(\"\\n--- Initial Data Properties ---\")\n",
    "print(f\"Age Skew: {skew(df['Age']):.2f} (Close to 0 is Gaussian)\")\n",
    "print(f\"Income_k Skew: {skew(df['Income_k']):.2f} (High positive skew)\")\n",
    "print(\"-\" * 50)"
   ]
  },
  {
   "cell_type": "code",
   "execution_count": 5,
   "id": "7c1d8c76-5890-4ed3-8b08-1d2c612faf02",
   "metadata": {},
   "outputs": [
    {
     "name": "stdout",
     "output_type": "stream",
     "text": [
      "Label Encoding (Ordinal) Result:\n",
      "     Education  Education_LE\n",
      "0          PhD             3\n",
      "1     Master's             2\n",
      "2   Bachelor's             1\n",
      "3  High School             0\n",
      "4     Master's             2\n"
     ]
    }
   ],
   "source": [
    "#------------------------------------------------Encoding------------------------------------------------------\n",
    "'''Label encoding : assigns a unique integer to each category of ordinal data '''\n",
    "# Mapping must reflect the order: High School < Bachelor's < Master's < PhD\n",
    "education_order = {'High School': 0, 'Bachelor\\'s': 1, 'Master\\'s': 2, 'PhD': 3}\n",
    "df['Education_LE'] = df['Education'].map(education_order)\n",
    "\n",
    "print(\"Label Encoding (Ordinal) Result:\")\n",
    "print(df[['Education', 'Education_LE']].head())"
   ]
  },
  {
   "cell_type": "code",
   "execution_count": 7,
   "id": "32bf4ea9-69c0-4439-9293-d1cd4c92625d",
   "metadata": {},
   "outputs": [
    {
     "name": "stdout",
     "output_type": "stream",
     "text": [
      "\n",
      "One-Hot Encoding (Nominal) Result:\n",
      "   Region_North  Region_South  Region_West\n",
      "0           1.0           0.0          0.0\n",
      "1           0.0           0.0          0.0\n",
      "2           0.0           0.0          1.0\n",
      "3           0.0           1.0          0.0\n",
      "4           1.0           0.0          0.0\n"
     ]
    }
   ],
   "source": [
    "'''One hot encoding : creates new numerical columns  to each category of nominal data '''\n",
    "ohe = OneHotEncoder(sparse_output=False, drop='first') # drop='first' is standard practice\n",
    "region_encoded_array = ohe.fit_transform(df[['Region']])\n",
    "region_cols = [f'Region_{c}' for c in ohe.categories_[0][1:]]\n",
    "\n",
    "# Create new DataFrame and concatenate\n",
    "df_region_encoded = pd.DataFrame(region_encoded_array, columns=region_cols)\n",
    "df = pd.concat([df.drop('Region', axis=1), df_region_encoded], axis=1)\n",
    "\n",
    "print(\"\\nOne-Hot Encoding (Nominal) Result:\")\n",
    "print(df[[c for c in df.columns if 'Region_' in c]].head())"
   ]
  },
  {
   "cell_type": "code",
   "execution_count": null,
   "id": "f55f1226-0b4d-4fbd-b5fd-d21e8384c46b",
   "metadata": {},
   "outputs": [],
   "source": [
    "#-----------------------------------------Feature Scaling---------------------------------------------------\n"
   ]
  }
 ],
 "metadata": {
  "kernelspec": {
   "display_name": "Python [conda env:base] *",
   "language": "python",
   "name": "conda-base-py"
  },
  "language_info": {
   "codemirror_mode": {
    "name": "ipython",
    "version": 3
   },
   "file_extension": ".py",
   "mimetype": "text/x-python",
   "name": "python",
   "nbconvert_exporter": "python",
   "pygments_lexer": "ipython3",
   "version": "3.12.7"
  }
 },
 "nbformat": 4,
 "nbformat_minor": 5
}
