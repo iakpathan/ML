{
 "cells": [
  {
   "cell_type": "code",
   "execution_count": 1,
   "id": "92b33bda",
   "metadata": {},
   "outputs": [
    {
     "name": "stdout",
     "output_type": "stream",
     "text": [
      "Encoded Features (First 5 Rows):\n",
      "    Pclass  Sex  Embarked  Deck_Level\n",
      "0       2    0         2           5\n",
      "1       2    0         2           0\n",
      "2       2    0         2           7\n",
      "3       0    1         2           1\n",
      "4       0    1         2           4\n",
      "----------------------------------------------------------------------\n"
     ]
    }
   ],
   "source": [
    "import pandas as pd\n",
    "from sklearn.preprocessing import LabelEncoder\n",
    "from sklearn.feature_selection import chi2, SelectKBest\n",
    "import numpy as np\n",
    "\n",
    "# Load the Titanic dataset (a common dataset in ML libraries or easily found online)\n",
    "# For this example, we create a simplified, representative DataFrame.\n",
    "data = {\n",
    "    'Survived': np.random.choice([0, 1], size=1000, p=[0.6, 0.4]), # Target: 0=No, 1=Yes\n",
    "    'Pclass': np.random.choice([1, 2, 3], size=1000, p=[0.2, 0.2, 0.6]), # Categorical Feature\n",
    "    'Sex': np.random.choice(['male', 'female'], size=1000, p=[0.65, 0.35]), # Categorical Feature\n",
    "    'Embarked': np.random.choice(['S', 'C', 'Q', 'Unknown'], size=1000, p=[0.7, 0.15, 0.1, 0.05]), # Categorical Feature\n",
    "    'Deck_Level': np.random.choice(['A', 'B', 'C', 'D', 'E', 'F', 'G', 'Noise'], size=1000, p=[0.1, 0.1, 0.1, 0.1, 0.1, 0.1, 0.1, 0.3]), # Mostly Noise/Irrelevant\n",
    "}\n",
    "df = pd.DataFrame(data)\n",
    "\n",
    "# Separate features (X) and target (y)\n",
    "X = df.drop('Survived', axis=1)\n",
    "y = df['Survived']\n",
    "\n",
    "# 2. Encode Categorical Data (Required for chi2)\n",
    "# The features are all categorical strings and must be converted to numerical integers.\n",
    "le = LabelEncoder()\n",
    "\n",
    "X_encoded = X.copy()\n",
    "for column in X_encoded.columns:\n",
    "    X_encoded[column] = le.fit_transform(X_encoded[column])\n",
    "\n",
    "# The target 'Survived' is already 0/1 (integer)\n",
    "y_encoded = y.values \n",
    "\n",
    "print(\"Encoded Features (First 5 Rows):\\n\", X_encoded.head())\n",
    "print(\"-\" * 70)"
   ]
  },
  {
   "cell_type": "code",
   "execution_count": 2,
   "id": "a455054d",
   "metadata": {},
   "outputs": [
    {
     "name": "stdout",
     "output_type": "stream",
     "text": [
      "Feature Selection Results (Ranked by Chi2 Score):\n",
      "| Feature    |   Chi2_Score |     P_Value |\n",
      "|:-----------|-------------:|------------:|\n",
      "| Deck_Level |   15.1033    | 0.000101785 |\n",
      "| Sex        |    0.286897  | 0.592216    |\n",
      "| Embarked   |    0.133453  | 0.714878    |\n",
      "| Pclass     |    0.0537614 | 0.816643    |\n",
      "----------------------------------------------------------------------\n",
      "Features with P-Value <= 0.05 (Statistically Significant for Survival):\n",
      "['Deck_Level']\n"
     ]
    }
   ],
   "source": [
    "# Apply SelectKBest with chi2 as the scoring function\n",
    "selector = SelectKBest(score_func=chi2, k='all')\n",
    "selector.fit(X_encoded, y_encoded)\n",
    "\n",
    "# Get the scores and p-values\n",
    "chi2_scores = selector.scores_\n",
    "p_values = selector.pvalues_\n",
    "\n",
    "# 4. Summarize and Rank the Features\n",
    "feature_scores = pd.DataFrame({\n",
    "    'Feature': X.columns,\n",
    "    'Chi2_Score': chi2_scores,\n",
    "    'P_Value': p_values\n",
    "})\n",
    "\n",
    "# Sort by Chi2_Score (higher is better)\n",
    "feature_scores = feature_scores.sort_values(by='Chi2_Score', ascending=False).reset_index(drop=True)\n",
    "\n",
    "print(\"Feature Selection Results (Ranked by Chi2 Score):\")\n",
    "print(feature_scores.to_markdown(index=False))\n",
    "print(\"-\" * 70)\n",
    "\n",
    "# 5. Interpretation and Selection\n",
    "alpha = 0.05\n",
    "relevant_features = feature_scores[feature_scores['P_Value'] <= alpha]['Feature'].tolist()\n",
    "\n",
    "print(f\"Features with P-Value <= {alpha} (Statistically Significant for Survival):\")\n",
    "print(relevant_features)"
   ]
  },
  {
   "cell_type": "code",
   "execution_count": null,
   "id": "784783be",
   "metadata": {},
   "outputs": [],
   "source": [
    "'''Sex and Pclass: These features have the highest $\\chi^2$ scores and very low p-values.\n",
    " This statistically confirms the real-world finding that Gender (often following the \"women and children first\" protocol) and Passenger Class (social/economic status) were the most significant factors related to survival on the Titanic.\n",
    " Deck_Level: This feature has a low $\\chi^2$ and a high p-value ($\\approx 0.94$), meaning the observed survival rate across the different deck categories is not statistically different from what would be expected if the feature were random noise. \n",
    "It should be filtered out.'''"
   ]
  }
 ],
 "metadata": {
  "kernelspec": {
   "display_name": "base",
   "language": "python",
   "name": "python3"
  },
  "language_info": {
   "codemirror_mode": {
    "name": "ipython",
    "version": 3
   },
   "file_extension": ".py",
   "mimetype": "text/x-python",
   "name": "python",
   "nbconvert_exporter": "python",
   "pygments_lexer": "ipython3",
   "version": "3.12.7"
  }
 },
 "nbformat": 4,
 "nbformat_minor": 5
}
